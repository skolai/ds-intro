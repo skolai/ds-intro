{
 "cells": [
  {
   "cell_type": "markdown",
   "id": "ec9cfd53-99e0-486b-9bc8-b0c6a6fefdd3",
   "metadata": {},
   "source": [
    "## 3 Linear Models: AUROC"
   ]
  },
  {
   "cell_type": "markdown",
   "id": "9e976662-2671-48d7-86e4-1019bc76fc94",
   "metadata": {},
   "source": [
    "![An example of ROC Curve][1]\n",
    "\n",
    "[1]: roc-rurve.png"
   ]
  },
  {
   "cell_type": "markdown",
   "id": "d056aaeb-4b05-4dfa-96b7-378573b6b5a7",
   "metadata": {},
   "source": [
    "An unbiased estimate of Area Under Receive-Operating Curve (AUROC) is \n",
    "\n",
    "$$\n",
    "    AUROC(a) = \\frac{1}{|\\mathcal{D}_0| |\\mathcal{D}_1|} \\sum_{x_0 \\in D_0} \\sum_{x_1 \\in D_1} I[a(x_0) < a(x_1)] .\n",
    "$$\n",
    "\n",
    "for an algorithm $a$, $\\mathcal{D}_{0,1}$ mean a set of negative (0) and positive (1) examples. It is useful since\n",
    "\n",
    "* Threshold Independence\n",
    "* Robustness to Class Imbalance\n",
    "* Model Comparison\n",
    "* Interpretability\n",
    "* ..."
   ]
  },
  {
   "cell_type": "markdown",
   "id": "088e6a2c-4dd6-4f3e-83bd-58b7c7a6f29e",
   "metadata": {},
   "source": [
    "### Dataset"
   ]
  },
  {
   "cell_type": "markdown",
   "id": "3b2b48e0-2bd5-42a3-b853-f83db7ebec86",
   "metadata": {},
   "source": [
    "Let's generate some synthetic 2d dataset for classification problem."
   ]
  },
  {
   "cell_type": "code",
   "execution_count": null,
   "id": "30831f56-1c43-4305-998e-709dc45d65b6",
   "metadata": {},
   "outputs": [],
   "source": [
    "import matplotlib.pyplot as plt\n",
    "import numpy as np"
   ]
  },
  {
   "cell_type": "code",
   "execution_count": null,
   "id": "a46b276b-908c-49d8-8f92-66a5227cacf1",
   "metadata": {},
   "outputs": [],
   "source": [
    "rs = np.random.RandomState(42)"
   ]
  },
  {
   "cell_type": "code",
   "execution_count": null,
   "id": "9d110b87-12ab-46be-aba8-a0ca4bf4f2a9",
   "metadata": {},
   "outputs": [],
   "source": [
    "n_points = 200\n",
    "clusters = [\n",
    "    rs.normal(loc=(1, 1), size=(n_points // 2, 2)),\n",
    "    rs.normal(loc=(-1, -1), size=(n_points // 2, 2)),\n",
    "]\n",
    "coords = np.vstack(clusters)\n",
    "labels = np.zeros(n_points, dtype=int)\n",
    "labels[n_points // 2:] += 1"
   ]
  },
  {
   "cell_type": "code",
   "execution_count": null,
   "id": "83ccbbad-55bd-4f12-a1bc-1860f5ecba54",
   "metadata": {},
   "outputs": [],
   "source": [
    "for i, cluster in enumerate(clusters):\n",
    "    plt.scatter(clusters[i][:, 0], clusters[i][:, 1], label=f'cluster {i}')\n",
    "plt.grid(True)\n",
    "plt.legend()\n",
    "plt.show()"
   ]
  },
  {
   "cell_type": "code",
   "execution_count": null,
   "id": "5e858ccf-e383-49c3-9033-17fca705cf56",
   "metadata": {},
   "outputs": [],
   "source": [
    "from sklearn.linear_model import LogisticRegression"
   ]
  },
  {
   "cell_type": "code",
   "execution_count": null,
   "id": "adebc387-18ed-4fa9-8a11-75ddfb296906",
   "metadata": {},
   "outputs": [],
   "source": [
    "clf = LogisticRegression()\n",
    "clf.fit(coords, labels)\n",
    "probas = clf.predict_proba(coords)"
   ]
  },
  {
   "cell_type": "markdown",
   "id": "0e8c1d4d-044c-40eb-85f1-1ce89d832aa7",
   "metadata": {},
   "source": [
    "### Confusion Matrix"
   ]
  },
  {
   "cell_type": "markdown",
   "id": "1d6ce51d-35cf-4d0e-9a97-415e14770b68",
   "metadata": {},
   "source": [
    "Consusion matrix for a binary classifier is\n",
    "\n",
    "$$\n",
    "    C = \\begin{bmatrix}\n",
    "        TP & FP \\\\\n",
    "        FN & TN\n",
    "    \\end{bmatrix}.\n",
    "$$\n",
    "\n",
    "Then let's define false-positive rate (FPR) and true-positive rate (TPR) as follows\n",
    "$$\n",
    "FPR = \\frac{FP}{TP + TN},\n",
    "$$\n",
    "$$\n",
    "TPR = \\frac{TP}{TP + FN}.\n",
    "$$\n",
    "\n",
    "Receiver-Operation Curve (ROC) is a relation between TPR and FPR\n",
    "\n",
    "$$\n",
    "    TPR= TPR(FPR).\n",
    "$$"
   ]
  },
  {
   "cell_type": "code",
   "execution_count": null,
   "id": "023ee420-410d-4244-a106-b57a1e35223a",
   "metadata": {},
   "outputs": [],
   "source": [
    "from sklearn.metrics import confusion_matrix"
   ]
  },
  {
   "cell_type": "code",
   "execution_count": null,
   "id": "e7b3a743-de0f-4652-a8b7-c5d01c3f20db",
   "metadata": {},
   "outputs": [],
   "source": [
    "threshold = 0.5\n",
    "preds = (probas[:, 1] >= threshold).astype(int)"
   ]
  },
  {
   "cell_type": "code",
   "execution_count": null,
   "id": "e58ea23b-8791-4bdd-8fba-fe6382b621ec",
   "metadata": {},
   "outputs": [],
   "source": [
    "confmat = confusion_matrix(labels, preds)\n",
    "tn, fp, fn, tp  = confmat.ravel()"
   ]
  },
  {
   "cell_type": "code",
   "execution_count": null,
   "id": "8b7b7407-3c31-474d-a0f0-3916334741ad",
   "metadata": {},
   "outputs": [],
   "source": [
    "fpr = fp / (fp + tn)\n",
    "fpr"
   ]
  },
  {
   "cell_type": "code",
   "execution_count": null,
   "id": "5fa4774a-5d64-4131-9f2b-7323611f584f",
   "metadata": {},
   "outputs": [],
   "source": [
    "tpr = tp / (tp + fn)\n",
    "tpr"
   ]
  },
  {
   "cell_type": "markdown",
   "id": "1a4adfe4-ae8c-4aa1-8131-5e48a9163675",
   "metadata": {},
   "source": [
    "### ROC and Area under ROC"
   ]
  },
  {
   "cell_type": "markdown",
   "id": "71161a76-7d84-45f0-a9c1-73374ad8b31d",
   "metadata": {},
   "source": [
    "We need to change a threshold contiously from 0 to 1, calculate confusion matrix, calculate tpr/fpr, and plot ROC and calculate AUROC."
   ]
  },
  {
   "cell_type": "code",
   "execution_count": null,
   "id": "f0c9be61-9926-4c28-8d04-646e2867a669",
   "metadata": {},
   "outputs": [],
   "source": [
    "# thresholds = (0, 0.5, 1)\n",
    "thresholds = np.linspace(0, 1, 101)\n",
    "\n",
    "fprs = np.empty(len(thresholds))\n",
    "tprs = np.empty(len(thresholds))\n",
    "for i, threshold in enumerate(thresholds):\n",
    "    preds = (probas[:, 0] <= threshold).astype(int)\n",
    "    \n",
    "    confmat = confusion_matrix(labels, preds)\n",
    "    tn, fp, fn, tp  = confmat.ravel()\n",
    "\n",
    "    fprs[i] = fp / (fp + tn)\n",
    "    tprs[i] = tp / (tp + fn)"
   ]
  },
  {
   "cell_type": "code",
   "execution_count": null,
   "id": "9e74692c-7356-42dd-b79c-19f5701f9a62",
   "metadata": {},
   "outputs": [],
   "source": [
    "plt.step(fprs, tprs, '-')\n",
    "plt.grid(True)\n",
    "plt.xlabel('FPR')\n",
    "plt.ylabel('TPR')\n",
    "plt.show()"
   ]
  },
  {
   "cell_type": "markdown",
   "id": "5648a525-9a65-438f-b98f-f7f5c4714a7b",
   "metadata": {},
   "source": [
    "If we intergrate numerical over `tprs`/`fprs` then the value of that integral is an area under curve (i.e. AUROC)."
   ]
  },
  {
   "cell_type": "code",
   "execution_count": null,
   "id": "b8bd6349-196f-4c31-99a4-16f44644ddd7",
   "metadata": {},
   "outputs": [],
   "source": [
    "np.trapz(tprs, fprs)"
   ]
  },
  {
   "cell_type": "markdown",
   "id": "d587ebbc-0452-499b-a0cd-a7b600373208",
   "metadata": {},
   "source": [
    "Great! Let's compare with library implementation."
   ]
  },
  {
   "cell_type": "code",
   "execution_count": null,
   "id": "b99c6d33-3b82-4440-a144-47cac5090b29",
   "metadata": {},
   "outputs": [],
   "source": [
    "from sklearn.metrics import roc_curve, roc_auc_score"
   ]
  },
  {
   "cell_type": "code",
   "execution_count": null,
   "id": "d7fc1fb4-a84e-425a-8e40-bafdb7c58ec3",
   "metadata": {},
   "outputs": [],
   "source": [
    "roc_auc_score(labels, probas[:, 1])"
   ]
  },
  {
   "cell_type": "code",
   "execution_count": null,
   "id": "b3d45e16-1d26-400b-a1ea-a74973d8a7e9",
   "metadata": {},
   "outputs": [],
   "source": [
    "fig, axs = plt.subplots(nrows=1, ncols=2, figsize=(15, 4))\n",
    "\n",
    "fpr, tpr, th = roc_curve(labels, probas[:, 1])\n",
    "ax = axs[0]\n",
    "ax.plot(fpr, tpr, '.-', label='library')\n",
    "ax.legend()\n",
    "ax.grid(True)\n",
    "ax.set_xlabel('FPR')\n",
    "ax.set_ylabel('TPR')\n",
    "\n",
    "ax = axs[1]\n",
    "ax.step(fprs, tprs, '.-', label='ours')\n",
    "ax.legend()\n",
    "ax.grid(True)\n",
    "ax.set_xlabel('FPR')\n",
    "ax.set_ylabel('TPR')\n",
    "\n",
    "plt.show()"
   ]
  }
 ],
 "metadata": {
  "kernelspec": {
   "display_name": "Python 3 (ipykernel)",
   "language": "python",
   "name": "python3"
  },
  "language_info": {
   "codemirror_mode": {
    "name": "ipython",
    "version": 3
   },
   "file_extension": ".py",
   "mimetype": "text/x-python",
   "name": "python",
   "nbconvert_exporter": "python",
   "pygments_lexer": "ipython3",
   "version": "3.10.12"
  }
 },
 "nbformat": 4,
 "nbformat_minor": 5
}
